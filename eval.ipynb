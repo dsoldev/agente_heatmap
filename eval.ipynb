{
 "cells": [
  {
   "cell_type": "code",
   "execution_count": 1,
   "id": "0d30e6d4",
   "metadata": {},
   "outputs": [
    {
     "name": "stdout",
     "output_type": "stream",
     "text": [
      "Results path: results\\driller\n"
     ]
    },
    {
     "data": {
      "text/plain": [
       "['results_driller_analysis_batch_1.jsonl',\n",
       " 'results_driller_analysis_batch_2.jsonl',\n",
       " 'results_driller_analysis_batch_3.jsonl',\n",
       " 'results_driller_analysis_batch_4.jsonl']"
      ]
     },
     "execution_count": 1,
     "metadata": {},
     "output_type": "execute_result"
    }
   ],
   "source": [
    "import json\n",
    "import os\n",
    "\n",
    "object_name = \"driller\"\n",
    "results_path = os.path.join(\"results\", object_name)\n",
    "print(f\"Results path: {results_path}\")\n",
    "# list all json files in results_path\n",
    "jsonl_files = [f for f in os.listdir(results_path) if f.endswith('.jsonl')]\n",
    "jsonl_files"
   ]
  },
  {
   "cell_type": "code",
   "execution_count": 2,
   "id": "572c0adc",
   "metadata": {},
   "outputs": [],
   "source": [
    "def load_jsonl(file_path):\n",
    "    with open(file_path, 'r', encoding='utf-8') as file:\n",
    "        return [json.loads(line) for line in file]\n",
    "\n",
    "def split_custom_id(custom_id):\n",
    "    custom_id = ''.join(custom_id.split('_')[2:])\n",
    "    custom_id = '/'.join(custom_id.split('-')[1:])\n",
    "    custom_id = custom_id.split('.')[0] + '.png'\n",
    "    return custom_id\n",
    "\n",
    "def process_line(line):\n",
    "    custom_id = line['custom_id']\n",
    "    response = line['response']\n",
    "    response = json.loads(response['body']['choices'][0]['message']['content'])\n",
    "    components = ', '.join(response['component'])\n",
    "    order = custom_id.split('_')[1]\n",
    "    file_path = split_custom_id(custom_id)\n",
    "    return {\n",
    "        \"order\": order,\n",
    "        \"custom_id\": custom_id,\n",
    "        \"file_path\": file_path,\n",
    "        \"components\": components\n",
    "    }"
   ]
  },
  {
   "cell_type": "code",
   "execution_count": 4,
   "id": "409a2ef0",
   "metadata": {},
   "outputs": [
    {
     "name": "stdout",
     "output_type": "stream",
     "text": [
      "Loading results\\driller\\results_driller_analysis_batch_1.jsonl\n",
      "Loaded 6033 records from results_driller_analysis_batch_1.jsonl\n",
      "Loading results\\driller\\results_driller_analysis_batch_2.jsonl\n",
      "Loaded 6042 records from results_driller_analysis_batch_2.jsonl\n",
      "Loading results\\driller\\results_driller_analysis_batch_3.jsonl\n",
      "Loaded 6032 records from results_driller_analysis_batch_3.jsonl\n",
      "Loading results\\driller\\results_driller_analysis_batch_4.jsonl\n",
      "Loaded 1519 records from results_driller_analysis_batch_4.jsonl\n",
      "Processed 19626 rows from all files.\n",
      "Total rows: 19626\n"
     ]
    }
   ],
   "source": [
    "import pandas as pd\n",
    "\n",
    "rows = []\n",
    "for jsonl_file in jsonl_files:\n",
    "    file_path = os.path.join(results_path, jsonl_file)\n",
    "    print(f\"Loading {file_path}\")\n",
    "    data = load_jsonl(file_path)\n",
    "    print(f\"Loaded {len(data)} records from {jsonl_file}\")\n",
    "\n",
    "    for line in data:\n",
    "        row = process_line(line)\n",
    "        rows.append(row)\n",
    "\n",
    "print(f\"Processed {len(rows)} rows from all files.\")\n",
    "df = pd.DataFrame(rows)\n",
    "df = df.sort_values(by='order')\n",
    "print(f\"Total rows: {len(df)}\")\n",
    "# save as excel file\n",
    "excel_path = os.path.join(results_path, f\"{object_name}_results.xlsx\")\n",
    "df.to_excel(excel_path, index=False)\n",
    "\n"
   ]
  },
  {
   "cell_type": "code",
   "execution_count": null,
   "id": "2a1245ae",
   "metadata": {},
   "outputs": [],
   "source": [
    "# ### USADO APENAS PARA ATUALIZAR CUSTOM_ID E FILE_PATH NO DATAFRAME DO DUCK PORQUE ESTAVA EM UMA VERSÃO ANTIGA\n",
    "\n",
    "# data = load_jsonl('duck_analysis_batch_safe.jsonl')\n",
    "# for line in data:\n",
    "#     custom_id = line['custom_id']\n",
    "#     file_path = split_custom_id(custom_id)\n",
    "#     order = custom_id.split('_')[1]\n",
    "    \n",
    "#     if order in df['order'].values:\n",
    "#         df.loc[df['order'] == order, 'custom_id'] = custom_id\n",
    "#         df.loc[df['order'] == order, 'file_path'] = file_path\n",
    "\n",
    "#     else:\n",
    "#         print(f\"Order {order} not found in DataFrame.\")\n",
    "\n",
    "# df.to_excel(excel_path, index=False)"
   ]
  },
  {
   "cell_type": "code",
   "execution_count": 5,
   "id": "2934c233",
   "metadata": {},
   "outputs": [],
   "source": [
    "# go through components find unique components and create boolean columns for each component\n",
    "unique_components = set()\n",
    "for components in df['components']:\n",
    "    for component in components.split(', '):\n",
    "        unique_components.add(component.strip())\n",
    "# False = 0 and True = 1\n",
    "for component in unique_components:\n",
    "    df[component] = df['components'].apply(lambda x: 1 if component in x else 0)\n",
    "# save the updated DataFrame to excel\n",
    "df.to_excel(excel_path, index=False)"
   ]
  }
 ],
 "metadata": {
  "kernelspec": {
   "display_name": "langchainV2",
   "language": "python",
   "name": "python3"
  },
  "language_info": {
   "codemirror_mode": {
    "name": "ipython",
    "version": 3
   },
   "file_extension": ".py",
   "mimetype": "text/x-python",
   "name": "python",
   "nbconvert_exporter": "python",
   "pygments_lexer": "ipython3",
   "version": "3.11.11"
  }
 },
 "nbformat": 4,
 "nbformat_minor": 5
}
