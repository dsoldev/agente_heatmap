{
 "cells": [
  {
   "cell_type": "code",
   "execution_count": null,
   "id": "0d30e6d4",
   "metadata": {},
   "outputs": [
    {
     "name": "stdout",
     "output_type": "stream",
     "text": [
      "Results path: results\\duck\n"
     ]
    }
   ],
   "source": [
    "import json\n",
    "import os\n",
    "\n",
    "object = \"duck\"\n",
    "results_path = os.path.join(\"results\", object)\n",
    "print(f\"Results path: {results_path}\")\n",
    "# list all json files in results_path\n",
    "jsonl_files = [f for f in os.listdir(results_path) if f.endswith('.jsonl')]\n",
    "jsonl_files"
   ]
  },
  {
   "cell_type": "code",
   "execution_count": null,
   "id": "572c0adc",
   "metadata": {},
   "outputs": [
    {
     "name": "stdout",
     "output_type": "stream",
     "text": [
      "{'order': '0017', 'custom_id': 'request_0017_000047.png_duck', 'file_path': '.png', 'components': 'cabeça, corpo'}\n"
     ]
    }
   ],
   "source": [
    "def load_jsonl(file_path):\n",
    "    with open(file_path, 'r', encoding='utf-8') as file:\n",
    "        return [json.loads(line) for line in file]\n",
    "\n",
    "def split_custom_id(custom_id):\n",
    "    custom_id = ''.join(custom_id.split('_')[2:])\n",
    "    custom_id = '/'.join(custom_id.split('-')[1:])\n",
    "    custom_id = custom_id.split('.')[0] + '.png'\n",
    "    return custom_id\n",
    "\n",
    "def process_line(line):\n",
    "    custom_id = line['custom_id']\n",
    "    response = line['response']\n",
    "    response = json.loads(response['body']['choices'][0]['message']['content'])\n",
    "    components = ', '.join(response['component'])\n",
    "    order = custom_id.split('_')[1]\n",
    "    file_path = split_custom_id(custom_id)\n",
    "    return {\n",
    "        \"order\": order,\n",
    "        \"custom_id\": custom_id,\n",
    "        \"file_path\": file_path,\n",
    "        \"components\": components\n",
    "    }"
   ]
  },
  {
   "cell_type": "code",
   "execution_count": 55,
   "id": "409a2ef0",
   "metadata": {},
   "outputs": [
    {
     "name": "stdout",
     "output_type": "stream",
     "text": [
      "Loading results\\duck\\result_duck_analysis_batch_1.jsonl\n",
      "Loaded 4242 records from result_duck_analysis_batch_1.jsonl\n",
      "Loading results\\duck\\result_duck_analysis_batch_2.jsonl\n",
      "Loaded 4255 records from result_duck_analysis_batch_2.jsonl\n",
      "Loading results\\duck\\result_duck_analysis_batch_3.jsonl\n",
      "Loaded 4228 records from result_duck_analysis_batch_3.jsonl\n",
      "Loading results\\duck\\result_duck_analysis_batch_4.jsonl\n",
      "Loaded 4242 records from result_duck_analysis_batch_4.jsonl\n",
      "Loading results\\duck\\result_duck_analysis_batch_5.jsonl\n",
      "Loaded 2552 records from result_duck_analysis_batch_5.jsonl\n",
      "Processed 19519 rows from all files.\n",
      "Total rows: 19519\n"
     ]
    }
   ],
   "source": [
    "import pandas as pd\n",
    "\n",
    "rows = []\n",
    "for jsonl_file in jsonl_files:\n",
    "    file_path = os.path.join(results_path, jsonl_file)\n",
    "    print(f\"Loading {file_path}\")\n",
    "    data = load_jsonl(file_path)\n",
    "    print(f\"Loaded {len(data)} records from {jsonl_file}\")\n",
    "\n",
    "    for line in data:\n",
    "        row = process_line(line)\n",
    "        rows.append(row)\n",
    "\n",
    "print(f\"Processed {len(rows)} rows from all files.\")\n",
    "df = pd.DataFrame(rows)\n",
    "df = df.sort_values(by='order')\n",
    "print(f\"Total rows: {len(df)}\")\n",
    "# save as excel file\n",
    "excel_path = os.path.join(results_path, f\"{object}_results.xlsx\")\n",
    "df.to_excel(excel_path, index=False)\n",
    "\n"
   ]
  },
  {
   "cell_type": "code",
   "execution_count": null,
   "id": "2a1245ae",
   "metadata": {},
   "outputs": [],
   "source": []
  }
 ],
 "metadata": {
  "kernelspec": {
   "display_name": "langchainV2",
   "language": "python",
   "name": "python3"
  },
  "language_info": {
   "codemirror_mode": {
    "name": "ipython",
    "version": 3
   },
   "file_extension": ".py",
   "mimetype": "text/x-python",
   "name": "python",
   "nbconvert_exporter": "python",
   "pygments_lexer": "ipython3",
   "version": "3.11.11"
  }
 },
 "nbformat": 4,
 "nbformat_minor": 5
}
